{
 "cells": [
  {
   "cell_type": "code",
   "execution_count": 2,
   "metadata": {},
   "outputs": [
    {
     "name": "stdout",
     "output_type": "stream",
     "text": [
      "Data : 23/05/2023       Prot. : NO-A-23001879        \n",
      "\n",
      "Invoice #Invoice DateNET7Due Date11585245PageTermsVRMMSERVICE LOCATION :Equip. IDExtended PriceUnit PriceUOMQtyFlight #Ref. #Item Desc hkTrans.DateInvoiceBILL TO:Airport: - MALE, MVCustomer #CurrencyUSD5199005/11/202305/18/2023NEOS SPANoJESSICA RIPAMONTIVIA DELLA CHIESA, 6821019 SOMMA LOMBARDO-VA-LOMBARDY  IT 210198686 New Trails DriveSuite 170The Woodlands, TX 77381USAASSOCIATED ENERGY GROUP, LLCEIXINNO711USGAVIATION TURBINE FUEL - VRMM05/01/2023235543 1 9,522.870 EINEUNO141USGAVIATION TURBINE FUEL - VRMM05/02/2023235618 2 3,011.290 EINEUNO511USGAVIATION TURBINE FUEL - VRMM05/06/2023235917 3 8,996.110 EINEONO711USGAVIATION TURBINE FUEL - VRMM05/08/2023236077 4 7,081.390 Item Sub Total 28,611.660 2813634141 325,203.55  45,836.42 23,229.37 19,522.23 60,615.53  6.393258 9.393258 5.393258 8.323379 Phone:SYSTEM SYSTEMUser Id:Total Due:Comments:$ 325,203.55 This invoice incorporates by reference Associated Energy Group, LLC’s General Terms and Conditions AEG-Fuels_General_Terms_Condition.pdf (aegfuels.com), which customer acknowledges it has read and accepted, including, specifically, Section 12 entitled Governing Law, Jurisdiction and Venue and Section 32 entitled Extraterritorial Effect of Texas Property Code Section 70.301 et seq. Any and all claims and disputes must be made within 10 days of receipt of invoice to csr@aegfuels.com otherwise it is deemed accepted. PAYMENT DISCLAIMER: To maintain security in your transactions with AEG, and to ensure your successful payment of this invoice, please NEVER accept any changes to banking detail instructions,      or payment remit information via email, without first contacting your AEG representative to verbally confirm any changes to this information. Please immediately report any suspicious emails you receive  from AEG asking you to change bank details of payment remittance.REMIT USD WIRE TO: PNC Bank N.A. ACCT: Associated Energy Group LLC. ACCT #: 1241209256, ABA: 043000096, SWIFT: PNCCUS33. REMIT CHECK TO: Associated Energy Group LLC, 701 Waterford Way, Suite 490, Miami, FL 33126, USA.\f\n"
     ]
    }
   ],
   "source": [
    "from pdfminer.high_level import extract_text\n",
    "\n",
    "file_path = \"../Fuel_Invoices/Cepsa.pdf\"\n",
    "\n",
    "text = extract_text(file_path)\n",
    "print(text)"
   ]
  },
  {
   "cell_type": "code",
   "execution_count": 3,
   "metadata": {},
   "outputs": [
    {
     "ename": "NameError",
     "evalue": "name 'file_path' is not defined",
     "output_type": "error",
     "traceback": [
      "\u001b[1;31m---------------------------------------------------------------------------\u001b[0m",
      "\u001b[1;31mNameError\u001b[0m                                 Traceback (most recent call last)",
      "Cell \u001b[1;32mIn[3], line 3\u001b[0m\n\u001b[0;32m      1\u001b[0m \u001b[39mimport\u001b[39;00m \u001b[39mcsv\u001b[39;00m\n\u001b[1;32m----> 3\u001b[0m \u001b[39mwith\u001b[39;00m \u001b[39mopen\u001b[39m(\u001b[39mf\u001b[39m\u001b[39m\"\u001b[39m\u001b[39m{\u001b[39;00mfile_path[\u001b[39m17\u001b[39m:\u001b[39m-\u001b[39m\u001b[39m4\u001b[39m]\u001b[39m}\u001b[39;00m\u001b[39m_ocr_result.csv\u001b[39m\u001b[39m\"\u001b[39m, \u001b[39m\"\u001b[39m\u001b[39mw\u001b[39m\u001b[39m\"\u001b[39m) \u001b[39mas\u001b[39;00m f:\n\u001b[0;32m      4\u001b[0m     writer \u001b[39m=\u001b[39m csv\u001b[39m.\u001b[39mwriter(f)\n\u001b[0;32m      5\u001b[0m     writer\u001b[39m.\u001b[39mwriterow([\u001b[39m\"\u001b[39m\u001b[39mText\u001b[39m\u001b[39m\"\u001b[39m, \u001b[39m\"\u001b[39m\u001b[39mConfidence\u001b[39m\u001b[39m\"\u001b[39m])\n",
      "\u001b[1;31mNameError\u001b[0m: name 'file_path' is not defined"
     ]
    }
   ],
   "source": [
    "import csv\n",
    "\n",
    "with open(f\"{file_path[17:-4]}_ocr_result.csv\", \"w\") as f:\n",
    "    writer = csv.writer(f)\n",
    "    writer.writerow([\"Text\", \"Confidence\"])\n",
    "\n",
    "    writer.writerow(allTheTexts)"
   ]
  }
 ],
 "metadata": {
  "kernelspec": {
   "display_name": "env",
   "language": "python",
   "name": "python3"
  },
  "language_info": {
   "codemirror_mode": {
    "name": "ipython",
    "version": 3
   },
   "file_extension": ".py",
   "mimetype": "text/x-python",
   "name": "python",
   "nbconvert_exporter": "python",
   "pygments_lexer": "ipython3",
   "version": "3.9.13"
  },
  "orig_nbformat": 4
 },
 "nbformat": 4,
 "nbformat_minor": 2
}
