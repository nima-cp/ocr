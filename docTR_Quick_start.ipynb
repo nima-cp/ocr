{
  "cells": [
    {
      "cell_type": "markdown",
      "metadata": {
        "id": "OOb64_drQ8HZ"
      },
      "source": [
        "Looking for some examples on how to use docTR for OCR-related tasks? You've come to the right place 😀\n"
      ]
    },
    {
      "cell_type": "markdown",
      "metadata": {
        "id": "0eiwDT8qIh4X"
      },
      "source": [
        "# Installation\n",
        "\n",
        "Install all the dependencies to make the most out of docTR. The project provides two main [installation](https://mindee.github.io/doctr/latest/installing.html) streams: one for stable release, and developer mode.\n"
      ]
    },
    {
      "cell_type": "markdown",
      "metadata": {
        "id": "Bh8uHvOVIvFW"
      },
      "source": [
        "## Latest stable release\n",
        "\n",
        "This will install the last stable release that was published by our teams on pypi. It is expected to provide a clean and non-buggy experience for all users.\n"
      ]
    },
    {
      "cell_type": "code",
      "execution_count": null,
      "metadata": {
        "colab": {
          "base_uri": "https://localhost:8080/"
        },
        "id": "43tpfKq1IxQg",
        "outputId": "025eb621-67a1-403d-dac3-a04f9da848d6"
      },
      "outputs": [],
      "source": [
        "# TensorFlow\n",
        "# !pip install python-doctr[tf]\n",
        "# PyTorch\n",
        "!pip install python-doctr[torch]\n",
        "# Restart runtime\n",
        "exit()"
      ]
    },
    {
      "cell_type": "markdown",
      "metadata": {
        "id": "zUbhZiRiIxbN"
      },
      "source": [
        "## From source\n",
        "\n",
        "Before being staged for a stable release, we constantly iterate on the community feedback to improve the library. Bug fixes and performance improvements are regularly pushed to the project Git repository. Using this installation method, you will access all the latest features that have not yet made their way to a pypi release!\n"
      ]
    },
    {
      "cell_type": "code",
      "execution_count": null,
      "metadata": {
        "id": "AJZgLM_CIzKf"
      },
      "outputs": [],
      "source": [
        "# Colab related installations to install pyproject.toml projects correctly\n",
        "!sudo apt install libcairo2-dev pkg-config\n",
        "!pip3 install pycairo\n",
        "# Install the most up-to-date version from GitHub\n",
        "# TensorFlow\n",
        "# !pip install python-doctr[tf]@git+https://github.com/mindee/doctr.git\n",
        "# PyTorch\n",
        "!pip3 install python-doctr[torch]@git+https://github.com/mindee/doctr.git\n",
        "# Restart runtime\n",
        "exit()"
      ]
    },
    {
      "cell_type": "markdown",
      "metadata": {
        "id": "RvJ3PzAQI0zK"
      },
      "source": [
        "Now go to `Runtime/Restart runtime` for your changes to take effect!\n"
      ]
    },
    {
      "cell_type": "markdown",
      "metadata": {
        "id": "r2mgRuCaJY4F"
      },
      "source": [
        "# Basic usage\n",
        "\n",
        "We're going to review the main features of docTR 🎁\n",
        "And for you to have a proper overview of its capabilities, we will need some free fonts for a proper output visualization:\n"
      ]
    },
    {
      "cell_type": "code",
      "execution_count": null,
      "metadata": {
        "id": "2Qhrp88TPDZi"
      },
      "outputs": [],
      "source": [
        "# Install some free fonts for result rendering\n",
        "!sudo apt-get install fonts-freefont-ttf -y"
      ]
    },
    {
      "cell_type": "markdown",
      "metadata": {
        "id": "Fe7KuocKSWX9"
      },
      "source": [
        "Let's take care of all the imports directly\n"
      ]
    },
    {
      "cell_type": "code",
      "execution_count": null,
      "metadata": {
        "id": "xSoeo0hRJbnU"
      },
      "outputs": [],
      "source": [
        "%matplotlib inline\n",
        "import os\n",
        "\n",
        "# Let's pick the desired backend\n",
        "# os.environ['USE_TF'] = '1'\n",
        "os.environ['USE_TORCH'] = '1'\n",
        "\n",
        "import matplotlib.pyplot as plt\n",
        "\n",
        "from doctr.io import DocumentFile\n",
        "from doctr.models import ocr_predictor"
      ]
    },
    {
      "cell_type": "markdown",
      "metadata": {
        "id": "7wwEmHqZSaLF"
      },
      "source": [
        "For the next steps, we will need a proper PDF document that will be used to showcase the library features\n"
      ]
    },
    {
      "cell_type": "code",
      "execution_count": null,
      "metadata": {
        "id": "UIBwFsVuJocy"
      },
      "outputs": [],
      "source": [
        "# Download a sample\n",
        "!wget https://eforms.com/download/2019/01/Cash-Payment-Receipt-Template.pdf\n",
        "# Read the file\n",
        "doc = DocumentFile.from_pdf(\"Cash-Payment-Receipt-Template.pdf\")\n",
        "print(f\"Number of pages: {len(doc)}\")"
      ]
    },
    {
      "cell_type": "markdown",
      "metadata": {
        "id": "cM6PPiWpSmb0"
      },
      "source": [
        "docTR is, under the hood, running Deep Learning models to perform the different tasks it supports. Those models were built and trained with very popular frameworks for maximum compatibility (you will be pleased to know that you can switch from [PyTorch](https://pytorch.org/) to [TensorFlow](https://www.tensorflow.org/) without noticing any difference for you). By default, our high-level API sets the best default values so that you get high performing models without having to know anything about it. All of this is wrapper in a `Predictor` object, which will take care of pre-processing, model inference and post-processing for you ⚡\n",
        "\n",
        "Let's instantiate one!\n"
      ]
    },
    {
      "cell_type": "code",
      "execution_count": null,
      "metadata": {
        "id": "WAoUcVQbKIfT"
      },
      "outputs": [],
      "source": [
        "# Instantiate a pretrained model\n",
        "predictor = ocr_predictor(pretrained=True)"
      ]
    },
    {
      "cell_type": "markdown",
      "metadata": {
        "id": "PKKYSs0ET0XQ"
      },
      "source": [
        "By default, PyTorch model provides a nice visual description of a model, which is handy when it comes to debugging or knowing what you just created. We also added a similar feature for TensorFlow backend so that you don't miss on this nice assistance.\n",
        "\n",
        "Let's dive into this model 🕵\n"
      ]
    },
    {
      "cell_type": "code",
      "execution_count": null,
      "metadata": {
        "id": "urR0KyUYOT-B"
      },
      "outputs": [],
      "source": [
        "# Display the architecture\n",
        "print(predictor)"
      ]
    },
    {
      "cell_type": "markdown",
      "metadata": {
        "id": "dlrtkNzTURAo"
      },
      "source": [
        "Here we are inspecting the most complex (and high-level) object of docTR API: an OCR predictor. Since docTR achieves Optical Character Recognition by first localizing textual elements (Text Detection), then extracting the corresponding text from each location (Text Recognition), the OCR Predictor wraps two sub-predictors: one for text detection, and the other for text recognition.\n"
      ]
    },
    {
      "cell_type": "markdown",
      "metadata": {
        "id": "uyVfbzhUL-Rw"
      },
      "source": [
        "## Basic inference\n",
        "\n",
        "It looks quite complex, isn't it?\n",
        "Well that will not prevent you from easily get nice results. See for yourself:\n"
      ]
    },
    {
      "cell_type": "code",
      "execution_count": null,
      "metadata": {
        "id": "RLPsdCj3PWzI"
      },
      "outputs": [],
      "source": [
        "result = predictor(doc)"
      ]
    },
    {
      "cell_type": "markdown",
      "metadata": {
        "id": "eFAwQaKuPYXG"
      },
      "source": [
        "## Prediction visualization\n",
        "\n",
        "If you rightfully prefer to see the results with your eyes, docTR includes a few visualization features. We will first overlay our predictions on the original document:\n"
      ]
    },
    {
      "cell_type": "code",
      "execution_count": null,
      "metadata": {
        "id": "sOcqPNnPMAE7"
      },
      "outputs": [],
      "source": [
        "result.show(doc)"
      ]
    },
    {
      "cell_type": "markdown",
      "metadata": {
        "id": "EnJERph1VXgN"
      },
      "source": [
        "Looks accurate!\n",
        "But we can go further: if the extracted information is correctly structured, we should be able to recreate the page entirely. So let's do this 🎨\n"
      ]
    },
    {
      "cell_type": "code",
      "execution_count": null,
      "metadata": {
        "id": "QdoSNYzROeRv"
      },
      "outputs": [],
      "source": [
        "synthetic_pages = result.synthesize()\n",
        "plt.imshow(synthetic_pages[0]); plt.axis('off'); plt.show()"
      ]
    },
    {
      "cell_type": "markdown",
      "metadata": {
        "id": "mEabainyPeV8"
      },
      "source": [
        "## Exporting results\n",
        "\n",
        "OK, so the predictions are relevant, but how would you integrate this into your own document processing pipeline? Perhaps you're not using Python at all?\n",
        "\n",
        "Well, if you happen to be using JSON or XML exports, they are already supported 🤗\n"
      ]
    },
    {
      "cell_type": "code",
      "execution_count": null,
      "metadata": {
        "id": "mhIolyjQOqLp"
      },
      "outputs": [],
      "source": [
        "# JSON export\n",
        "json_export = result.export()\n",
        "print(json_export)"
      ]
    },
    {
      "cell_type": "code",
      "execution_count": null,
      "metadata": {
        "id": "3RsuKIlYPnNf"
      },
      "outputs": [],
      "source": [
        "# XML export\n",
        "xml_output = result.export_as_xml()\n",
        "print(xml_output[0][0])"
      ]
    }
  ],
  "metadata": {
    "colab": {
      "name": "docTR - Quick start.ipynb",
      "provenance": []
    },
    "kernelspec": {
      "display_name": "Python 3",
      "language": "python",
      "name": "python3"
    },
    "language_info": {
      "codemirror_mode": {
        "name": "ipython",
        "version": 3
      },
      "file_extension": ".py",
      "mimetype": "text/x-python",
      "name": "python",
      "nbconvert_exporter": "python",
      "pygments_lexer": "ipython3",
      "version": "3.10.11"
    }
  },
  "nbformat": 4,
  "nbformat_minor": 0
}
