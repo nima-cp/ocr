{
 "cells": [
  {
   "cell_type": "code",
   "execution_count": null,
   "metadata": {},
   "outputs": [],
   "source": [
    "from doctr.models import ocr_predictor\n",
    "from doctr.io import DocumentFile\n",
    "import json\n",
    "\n",
    "model = ocr_predictor(\n",
    "    det_arch=\"db_resnet50\", reco_arch=\"crnn_vgg16_bn\", pretrained=True\n",
    ")\n",
    "# import mindee"
   ]
  },
  {
   "cell_type": "code",
   "execution_count": null,
   "metadata": {},
   "outputs": [],
   "source": [
    "# PDF\n",
    "pdf_doc = DocumentFile.from_pdf(\"./Fuel_Invoices/Associated Energy Group2.pdf\")\n",
    "\n",
    "\n",
    "result = model(pdf_doc)\n",
    "result_json = result.export()\n",
    "# print(json.dumps(result_json))\n",
    "result.show(pdf_doc)\n",
    "\n",
    "\n",
    "filename = \"result.json\"\n",
    "with open(filename, \"w\") as json_file:\n",
    "    json.dump(result_json, json_file)\n",
    "\n",
    "json_file.close()\n",
    "\n",
    "\n",
    "# # Image\n",
    "# single_img_doc = DocumentFile.from_images(\"path/to/your/img.jpg\")\n",
    "# # Webpage\n",
    "# webpage_doc = DocumentFile.from_url(\"https://www.yoursite.com\")\n",
    "# # Multiple page images\n",
    "# multi_img_doc = DocumentFile.from_images([\"path/to/page1.jpg\", \"path/to/page2.jpg\"])"
   ]
  },
  {
   "cell_type": "markdown",
   "metadata": {},
   "source": [
    "#the following two libraries just give the output"
   ]
  },
  {
   "cell_type": "code",
   "execution_count": null,
   "metadata": {},
   "outputs": [],
   "source": [
    "import fitz\n",
    "\n",
    "\n",
    "def extract_text_from_pdf(file_path):\n",
    "    with fitz.open(file_path) as doc:\n",
    "        text = \"\"\n",
    "        for page in doc:\n",
    "            text += page.get_text()\n",
    "    return text\n",
    "\n",
    "\n",
    "# Usage\n",
    "pdf_file_path = \"./Fuel_Invoices/Associated Energy Group2.pdf\"\n",
    "extracted_text = extract_text_from_pdf(pdf_file_path)\n",
    "print(extracted_text)"
   ]
  },
  {
   "cell_type": "code",
   "execution_count": null,
   "metadata": {},
   "outputs": [],
   "source": [
    "# import PyPDF2\n",
    "\n",
    "\n",
    "# def extract_text_from_pdf(file_path):\n",
    "#     with open(file_path, \"rb\") as file:\n",
    "#         pdf_reader = PyPDF2.PdfReader(file)\n",
    "#         text = \"\"\n",
    "#         for page_number in range(len(pdf_reader.pages)):\n",
    "#             page = pdf_reader.pages[page_number]\n",
    "#             text += page.extract_text()\n",
    "#     return text\n",
    "\n",
    "\n",
    "# # Usage\n",
    "# pdf_file_path = \"./Fuel_Invoices/Associated Energy Group2.pdf\"\n",
    "# extracted_text = extract_text_from_pdf(pdf_file_path)\n",
    "# print(extracted_text)\n",
    "# filename = \"result2.json\"\n",
    "# with open(filename, \"w\") as json_file:\n",
    "#     json.dump(extracted_text, json_file)\n",
    "\n",
    "# json_file.close()"
   ]
  }
 ],
 "metadata": {
  "kernelspec": {
   "display_name": ".venv",
   "language": "python",
   "name": "python3"
  },
  "language_info": {
   "codemirror_mode": {
    "name": "ipython",
    "version": 3
   },
   "file_extension": ".py",
   "mimetype": "text/x-python",
   "name": "python",
   "nbconvert_exporter": "python",
   "pygments_lexer": "ipython3",
   "version": "3.11.4"
  },
  "orig_nbformat": 4
 },
 "nbformat": 4,
 "nbformat_minor": 2
}
