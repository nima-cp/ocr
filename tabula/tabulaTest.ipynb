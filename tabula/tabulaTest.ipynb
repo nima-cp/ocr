{
 "cells": [
  {
   "cell_type": "code",
   "execution_count": 4,
   "metadata": {},
   "outputs": [
    {
     "name": "stderr",
     "output_type": "stream",
     "text": [
      "'pages' argument isn't specified.Will extract only from page 1 by default.\n"
     ]
    }
   ],
   "source": [
    "import tabula\n",
    "\n",
    "file_path = \"../Fuel_Invoices/Cepsa.pdf\"\n",
    "# Read pdf into a list of DataFrame\n",
    "dfs = tabula.read_pdf(file_path, pages=\"all\")\n",
    "\n",
    "# Read remote pdf into a list of DataFrame\n",
    "dfs2 = tabula.read_pdf(\n",
    "    \"https://github.com/tabulapdf/tabula-java/raw/master/src/test/resources/technology/tabula/arabic.pdf\"\n",
    ")\n",
    "\n",
    "# tabula.convert_into(dfs2, \"tabula-results-2.csv\", output_format=\"json\", pages=\"all\")\n",
    "\n",
    "# convert PDF into CSV\n",
    "tabula.convert_into(\n",
    "    file_path, file_path[17:-4] + \".csv\", output_format=\"csv\", pages=\"all\"\n",
    ")\n",
    "\n",
    "\n",
    "# convert all PDFs in a directory\n",
    "# tabula.convert_into_by_batch(\"input_directory\", output_format=\"csv\", pages=\"all\")"
   ]
  },
  {
   "cell_type": "code",
   "execution_count": 10,
   "metadata": {},
   "outputs": [
    {
     "name": "stdout",
     "output_type": "stream",
     "text": [
      "<class 'list'>\n",
      "[       Product:  40401 JET FUEL Unnamed: 0 Unnamed: 1    Unnamed: 2  \\\n",
      "0   01.05.2023  312324319 EIRZC    NOS1294        FCO   FUE  12.558   \n",
      "1   01.05.2023  312324584 EIHIM    NOS1350        VRN    VRN  2.341   \n",
      "2   01.05.2023  312324621 INEOU    NOS1446        BLQ   ACE  11.037   \n",
      "3   01.05.2023  312324586 EIRZA    NOS1620        MXP    MXP  2.909   \n",
      "4   01.05.2023  312324560 INEOZ    NOS1701        MXP   MXP  13.867   \n",
      "5   03.05.2023  312324324 EIRZD    NOS3925        KEF   KEF  18.377   \n",
      "6   08.05.2023  095000036 INEOU    NOS1350        VRN    VRN  2.572   \n",
      "7   08.05.2023  093000057 EIHIM    NOS1446        BLQ   BLQ  12.350   \n",
      "8   08.05.2023  009000037 EIRZB    NOS1620        MXP    MXP  2.532   \n",
      "9   10.05.2023  015000946 EIRZD    NOS3925        KEF   KEF  20.708   \n",
      "10  15.05.2023  010000103 INEOZ    NOS1350        VRN    VRN  2.912   \n",
      "11  15.05.2023  015000984 EIHIM    NOS1446        BLQ   BLQ  12.677   \n",
      "12                          NaN        NaN        NaN           NaN   \n",
      "13  15.05.2023  093000114 EIRZB    NOS1620        MXP    MXP  2.993   \n",
      "14                          NaN        NaN        NaN           NaN   \n",
      "15                          NaN        NaN        NaN  ____________   \n",
      "\n",
      "    Unnamed: 3 Unnamed: 4     Unnamed: 5  \n",
      "0          NaN  3.317,473  8,55320 49,00  \n",
      "1          NaN    618,427   7,55320 9,14  \n",
      "2          NaN  2.915,667  6,55320 43,07  \n",
      "3          NaN    768,477  8,55320 11,35  \n",
      "4          NaN  3.663,274  9,55320 54,10  \n",
      "5          NaN  4.854,690  5,55320 72,11  \n",
      "6          NaN    679,451  7,55320 10,09  \n",
      "7          NaN  3.262,525  9 48,43,55320  \n",
      "8          NaN    668,884   8 ,553209,93  \n",
      "9          NaN  5.470,475  7 ,5532080,57  \n",
      "10         NaN    769,269   11,265,55320  \n",
      "11         NaN  3.348,909          48,99  \n",
      "12         NaN        NaN        4,55320  \n",
      "13         NaN    790,667          11,56  \n",
      "14         NaN        NaN        9,55320  \n",
      "15         NaN        NaN            NaN  ]\n"
     ]
    }
   ],
   "source": [
    "print(type(dfs))\n",
    "print(dfs)"
   ]
  },
  {
   "cell_type": "markdown",
   "metadata": {},
   "source": []
  }
 ],
 "metadata": {
  "kernelspec": {
   "display_name": "env",
   "language": "python",
   "name": "python3"
  },
  "language_info": {
   "codemirror_mode": {
    "name": "ipython",
    "version": 3
   },
   "file_extension": ".py",
   "mimetype": "text/x-python",
   "name": "python",
   "nbconvert_exporter": "python",
   "pygments_lexer": "ipython3",
   "version": "3.9.13"
  },
  "orig_nbformat": 4
 },
 "nbformat": 4,
 "nbformat_minor": 2
}
